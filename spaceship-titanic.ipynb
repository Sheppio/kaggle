{
 "cells": [
  {
   "cell_type": "code",
   "execution_count": 1,
   "id": "8a78884e",
   "metadata": {
    "_cell_guid": "b1076dfc-b9ad-4769-8c92-a6c4dae69d19",
    "_uuid": "8f2839f25d086af736a60e9eeb907d3b93b6e0e5",
    "execution": {
     "iopub.execute_input": "2025-01-14T18:02:38.390430Z",
     "iopub.status.busy": "2025-01-14T18:02:38.390013Z",
     "iopub.status.idle": "2025-01-14T18:02:38.762291Z",
     "shell.execute_reply": "2025-01-14T18:02:38.761127Z"
    },
    "papermill": {
     "duration": 0.37853,
     "end_time": "2025-01-14T18:02:38.764050",
     "exception": false,
     "start_time": "2025-01-14T18:02:38.385520",
     "status": "completed"
    },
    "tags": []
   },
   "outputs": [
    {
     "name": "stdout",
     "output_type": "stream",
     "text": [
      "/kaggle/input/spaceship-titanic/sample_submission.csv\n",
      "/kaggle/input/spaceship-titanic/train.csv\n",
      "/kaggle/input/spaceship-titanic/test.csv\n"
     ]
    }
   ],
   "source": [
    "# This Python 3 environment comes with many helpful analytics libraries installed\n",
    "# It is defined by the kaggle/python Docker image: https://github.com/kaggle/docker-python\n",
    "# For example, here's several helpful packages to load\n",
    "\n",
    "import numpy as np # linear algebra\n",
    "import pandas as pd # data processing, CSV file I/O (e.g. pd.read_csv)\n",
    "\n",
    "# Input data files are available in the read-only \"../input/\" directory\n",
    "# For example, running this (by clicking run or pressing Shift+Enter) will list all files under the input directory\n",
    "\n",
    "import os\n",
    "for dirname, _, filenames in os.walk('/kaggle/input'):\n",
    "    for filename in filenames:\n",
    "        print(os.path.join(dirname, filename))\n",
    "\n",
    "# You can write up to 20GB to the current directory (/kaggle/working/) that gets preserved as output when you create a version using \"Save & Run All\" \n",
    "# You can also write temporary files to /kaggle/temp/, but they won't be saved outside of the current session"
   ]
  },
  {
   "cell_type": "code",
   "execution_count": 2,
   "id": "ef4b09da",
   "metadata": {
    "execution": {
     "iopub.execute_input": "2025-01-14T18:02:38.771278Z",
     "iopub.status.busy": "2025-01-14T18:02:38.770798Z",
     "iopub.status.idle": "2025-01-14T18:02:38.870660Z",
     "shell.execute_reply": "2025-01-14T18:02:38.869474Z"
    },
    "papermill": {
     "duration": 0.105219,
     "end_time": "2025-01-14T18:02:38.872554",
     "exception": false,
     "start_time": "2025-01-14T18:02:38.767335",
     "status": "completed"
    },
    "tags": []
   },
   "outputs": [
    {
     "name": "stdout",
     "output_type": "stream",
     "text": [
      "     PassengerId HomePlanet CryoSleep     Cabin    Destination   Age    VIP  \\\n",
      "0        0001_01     Europa     False     B/0/P    TRAPPIST-1e  39.0  False   \n",
      "1        0002_01      Earth     False     F/0/S    TRAPPIST-1e  24.0  False   \n",
      "2        0003_01     Europa     False     A/0/S    TRAPPIST-1e  58.0   True   \n",
      "3        0003_02     Europa     False     A/0/S    TRAPPIST-1e  33.0  False   \n",
      "4        0004_01      Earth     False     F/1/S    TRAPPIST-1e  16.0  False   \n",
      "...          ...        ...       ...       ...            ...   ...    ...   \n",
      "8688     9276_01     Europa     False    A/98/P    55 Cancri e  41.0   True   \n",
      "8689     9278_01      Earth      True  G/1499/S  PSO J318.5-22  18.0  False   \n",
      "8690     9279_01      Earth     False  G/1500/S    TRAPPIST-1e  26.0  False   \n",
      "8691     9280_01     Europa     False   E/608/S    55 Cancri e  32.0  False   \n",
      "8692     9280_02     Europa     False   E/608/S    TRAPPIST-1e  44.0  False   \n",
      "\n",
      "      RoomService  FoodCourt  ShoppingMall     Spa  VRDeck               Name  \\\n",
      "0             0.0        0.0           0.0     0.0     0.0    Maham Ofracculy   \n",
      "1           109.0        9.0          25.0   549.0    44.0       Juanna Vines   \n",
      "2            43.0     3576.0           0.0  6715.0    49.0      Altark Susent   \n",
      "3             0.0     1283.0         371.0  3329.0   193.0       Solam Susent   \n",
      "4           303.0       70.0         151.0   565.0     2.0  Willy Santantines   \n",
      "...           ...        ...           ...     ...     ...                ...   \n",
      "8688          0.0     6819.0           0.0  1643.0    74.0  Gravior Noxnuther   \n",
      "8689          0.0        0.0           0.0     0.0     0.0    Kurta Mondalley   \n",
      "8690          0.0        0.0        1872.0     1.0     0.0       Fayey Connon   \n",
      "8691          0.0     1049.0           0.0   353.0  3235.0   Celeon Hontichre   \n",
      "8692        126.0     4688.0           0.0     0.0    12.0   Propsh Hontichre   \n",
      "\n",
      "      Transported  \n",
      "0           False  \n",
      "1            True  \n",
      "2           False  \n",
      "3           False  \n",
      "4            True  \n",
      "...           ...  \n",
      "8688        False  \n",
      "8689        False  \n",
      "8690         True  \n",
      "8691        False  \n",
      "8692         True  \n",
      "\n",
      "[8693 rows x 14 columns]\n",
      "     PassengerId HomePlanet CryoSleep     Cabin    Destination   Age    VIP  \\\n",
      "0        0013_01      Earth      True     G/3/S    TRAPPIST-1e  27.0  False   \n",
      "1        0018_01      Earth     False     F/4/S    TRAPPIST-1e  19.0  False   \n",
      "2        0019_01     Europa      True     C/0/S    55 Cancri e  31.0  False   \n",
      "3        0021_01     Europa     False     C/1/S    TRAPPIST-1e  38.0  False   \n",
      "4        0023_01      Earth     False     F/5/S    TRAPPIST-1e  20.0  False   \n",
      "...          ...        ...       ...       ...            ...   ...    ...   \n",
      "4272     9266_02      Earth      True  G/1496/S    TRAPPIST-1e  34.0  False   \n",
      "4273     9269_01      Earth     False       NaN    TRAPPIST-1e  42.0  False   \n",
      "4274     9271_01       Mars      True   D/296/P    55 Cancri e   NaN  False   \n",
      "4275     9273_01     Europa     False   D/297/P            NaN   NaN  False   \n",
      "4276     9277_01      Earth      True  G/1498/S  PSO J318.5-22  43.0  False   \n",
      "\n",
      "      RoomService  FoodCourt  ShoppingMall     Spa  VRDeck              Name  \n",
      "0             0.0        0.0           0.0     0.0     0.0   Nelly Carsoning  \n",
      "1             0.0        9.0           0.0  2823.0     0.0    Lerome Peckers  \n",
      "2             0.0        0.0           0.0     0.0     0.0   Sabih Unhearfus  \n",
      "3             0.0     6652.0           0.0   181.0   585.0  Meratz Caltilter  \n",
      "4            10.0        0.0         635.0     0.0     0.0   Brence Harperez  \n",
      "...           ...        ...           ...     ...     ...               ...  \n",
      "4272          0.0        0.0           0.0     0.0     0.0       Jeron Peter  \n",
      "4273          0.0      847.0          17.0    10.0   144.0     Matty Scheron  \n",
      "4274          0.0        0.0           0.0     0.0     0.0       Jayrin Pore  \n",
      "4275          0.0     2680.0           0.0     0.0   523.0    Kitakan Conale  \n",
      "4276          0.0        0.0           0.0     0.0     0.0  Lilace Leonzaley  \n",
      "\n",
      "[4277 rows x 13 columns]\n"
     ]
    }
   ],
   "source": [
    "training_data = pd.read_csv('/kaggle/input/spaceship-titanic/train.csv')\n",
    "print(training_data)\n",
    "test_data = pd.read_csv('/kaggle/input/spaceship-titanic/test.csv')\n",
    "print(test_data)"
   ]
  },
  {
   "cell_type": "code",
   "execution_count": 3,
   "id": "e9ed2443",
   "metadata": {
    "execution": {
     "iopub.execute_input": "2025-01-14T18:02:38.879601Z",
     "iopub.status.busy": "2025-01-14T18:02:38.879257Z",
     "iopub.status.idle": "2025-01-14T18:02:40.081800Z",
     "shell.execute_reply": "2025-01-14T18:02:40.080490Z"
    },
    "papermill": {
     "duration": 1.207991,
     "end_time": "2025-01-14T18:02:40.083626",
     "exception": false,
     "start_time": "2025-01-14T18:02:38.875635",
     "status": "completed"
    },
    "tags": []
   },
   "outputs": [
    {
     "name": "stdout",
     "output_type": "stream",
     "text": [
      "     PassengerId HomePlanet CryoSleep     Cabin    Destination   Age    VIP  \\\n",
      "2333     2513_01      Earth     False       NaN    TRAPPIST-1e  28.0  False   \n",
      "2589     2774_02      Earth     False   F/575/P    TRAPPIST-1e  17.0  False   \n",
      "8302     8862_04     Europa      True   C/329/S    55 Cancri e  28.0  False   \n",
      "8177     8736_02       Mars     False  F/1800/P    TRAPPIST-1e  20.0  False   \n",
      "500      0539_02     Europa      True    C/18/P    55 Cancri e  36.0  False   \n",
      "...          ...        ...       ...       ...            ...   ...    ...   \n",
      "5734     6076_01      Earth       NaN   G/988/S    TRAPPIST-1e  18.0  False   \n",
      "5191     5537_01       Mars     False  F/1063/S    TRAPPIST-1e  50.0    NaN   \n",
      "5390     5756_06      Earth     False  F/1194/P  PSO J318.5-22  22.0  False   \n",
      "860      0925_01       Mars     False   F/191/P    TRAPPIST-1e  34.0  False   \n",
      "7270     7775_01     Europa     False   C/253/P    55 Cancri e  28.0  False   \n",
      "\n",
      "      RoomService  FoodCourt  ShoppingMall    Spa  VRDeck                Name  \n",
      "2333          0.0       55.0           0.0  656.0     0.0      Loree Mathison  \n",
      "2589          0.0     1195.0          31.0    0.0     0.0   Crisey Mcbriddley  \n",
      "8302          0.0        0.0           0.0    0.0     0.0      Alramix Myling  \n",
      "8177          NaN        2.0         289.0  976.0     0.0           Tros Pota  \n",
      "500           0.0        0.0           0.0    0.0     0.0      Achyon Nalanet  \n",
      "...           ...        ...           ...    ...     ...                 ...  \n",
      "5734         14.0        2.0         144.0  610.0     0.0        Therry Cames  \n",
      "5191        690.0        0.0          30.0  762.0   428.0         Herms Bancy  \n",
      "5390        158.0        0.0         476.0    0.0    26.0    Karena Briggston  \n",
      "860         379.0        0.0        1626.0    0.0     0.0          Skix Kraie  \n",
      "7270          7.0      489.0           0.0    4.0  6027.0  Alraium Disivering  \n",
      "\n",
      "[6954 rows x 13 columns]\n"
     ]
    }
   ],
   "source": [
    "\n",
    "Y_train = training_data.Transported\n",
    "#print(Y_train)\n",
    "X_train = training_data.drop(['Transported'], axis=1)\n",
    "\n",
    "# Remove this line once we're done with testing\n",
    "from sklearn.model_selection import train_test_split\n",
    "X_train, X_test, Y_train, Y_test = train_test_split(X_train, Y_train ,random_state = 42,test_size=0.2)\n",
    "\n",
    "print(X_train)\n",
    "# Transported does not exist in test data\n",
    "#Y_test = test_data.Transported\n",
    "#print(Y_test)\n",
    "#X_test = test_data.drop(['Transported'], axis=1)\n",
    "#X_test = test_data\n",
    "#print(X_test)"
   ]
  },
  {
   "cell_type": "code",
   "execution_count": 4,
   "id": "78f9b783",
   "metadata": {
    "execution": {
     "iopub.execute_input": "2025-01-14T18:02:40.091014Z",
     "iopub.status.busy": "2025-01-14T18:02:40.090589Z",
     "iopub.status.idle": "2025-01-14T18:02:40.119257Z",
     "shell.execute_reply": "2025-01-14T18:02:40.118250Z"
    },
    "papermill": {
     "duration": 0.034143,
     "end_time": "2025-01-14T18:02:40.121013",
     "exception": false,
     "start_time": "2025-01-14T18:02:40.086870",
     "status": "completed"
    },
    "tags": []
   },
   "outputs": [],
   "source": [
    "#df[['A', 'B']] = df['AB'].str.split(' ', n=1, expand=True)\n",
    "#print(type(X_train['Cabin'][0]))\n",
    "X_train[['CabinDeck','CabinNum','CabinSide']] = X_train['Cabin'].str.split('/', n=-1, expand=True)\n",
    "X_train.CabinNum = pd.to_numeric(X_train.CabinNum)\n",
    "X_train.drop('Cabin',axis=1, inplace=True)\n",
    "#print(X_train)\n",
    "X_test[['CabinDeck','CabinNum','CabinSide']] = X_test['Cabin'].str.split('/', n=-1, expand=True)\n",
    "X_test.CabinNum = pd.to_numeric(X_test.CabinNum)\n",
    "X_test.drop('Cabin',axis=1, inplace=True)\n",
    "#print(X_test)"
   ]
  },
  {
   "cell_type": "code",
   "execution_count": 5,
   "id": "464265e2",
   "metadata": {
    "execution": {
     "iopub.execute_input": "2025-01-14T18:02:40.128011Z",
     "iopub.status.busy": "2025-01-14T18:02:40.127701Z",
     "iopub.status.idle": "2025-01-14T18:02:40.134309Z",
     "shell.execute_reply": "2025-01-14T18:02:40.133399Z"
    },
    "papermill": {
     "duration": 0.011646,
     "end_time": "2025-01-14T18:02:40.135794",
     "exception": false,
     "start_time": "2025-01-14T18:02:40.124148",
     "status": "completed"
    },
    "tags": []
   },
   "outputs": [],
   "source": [
    "unimportantColumns = ['PassengerId','Name']\n",
    "X_train.drop(columns = unimportantColumns, inplace=True)\n",
    "#print(X_train)\n",
    "X_test.drop(columns = unimportantColumns, inplace=True)\n",
    "#print('\\nX_test')\n",
    "#print(X_test)"
   ]
  },
  {
   "cell_type": "code",
   "execution_count": 6,
   "id": "066ef8e4",
   "metadata": {
    "execution": {
     "iopub.execute_input": "2025-01-14T18:02:40.142719Z",
     "iopub.status.busy": "2025-01-14T18:02:40.142432Z",
     "iopub.status.idle": "2025-01-14T18:02:40.627651Z",
     "shell.execute_reply": "2025-01-14T18:02:40.626599Z"
    },
    "papermill": {
     "duration": 0.490797,
     "end_time": "2025-01-14T18:02:40.629707",
     "exception": false,
     "start_time": "2025-01-14T18:02:40.138910",
     "status": "completed"
    },
    "tags": []
   },
   "outputs": [
    {
     "name": "stdout",
     "output_type": "stream",
     "text": [
      "Categorical variables:\n",
      "['HomePlanet', 'CryoSleep', 'Destination', 'VIP', 'CabinDeck', 'CabinSide']\n"
     ]
    }
   ],
   "source": [
    "s = (X_train.dtypes == 'object')\n",
    "object_cols = list(s[s].index)\n",
    "\n",
    "print(\"Categorical variables:\")\n",
    "print(object_cols)\n",
    "\n",
    "from sklearn.preprocessing import OneHotEncoder\n",
    "import category_encoders as ce\n",
    "\n",
    "encoder = ce.OneHotEncoder(handle_unknown='ignore', cols=object_cols, use_cat_names=True, return_df=True)\n",
    "X_train =  encoder.fit_transform(X_train)\n",
    "X_test =  encoder.transform(X_test)\n",
    "#print(X_train)"
   ]
  },
  {
   "cell_type": "code",
   "execution_count": 7,
   "id": "8bbacd81",
   "metadata": {
    "execution": {
     "iopub.execute_input": "2025-01-14T18:02:40.637169Z",
     "iopub.status.busy": "2025-01-14T18:02:40.636749Z",
     "iopub.status.idle": "2025-01-14T18:02:40.640270Z",
     "shell.execute_reply": "2025-01-14T18:02:40.639461Z"
    },
    "papermill": {
     "duration": 0.008601,
     "end_time": "2025-01-14T18:02:40.641687",
     "exception": false,
     "start_time": "2025-01-14T18:02:40.633086",
     "status": "completed"
    },
    "tags": []
   },
   "outputs": [],
   "source": [
    "#OH_encoder = OneHotEncoder(handle_unknown='ignore', sparse_output=False)\n",
    "#OH_encoder.fit(X_train[object_cols])\n",
    "\n",
    "#def my_OHenc_function(OH_encoder, train, object_cols):\n",
    "#    OH_cols_train = pd.DataFrame(OH_encoder.transform(train[object_cols]))\n",
    "#    OH_cols_train.index = train.index\n",
    "#    OH_cols_train.columns = OH_encoder.get_feature_names_out()\n",
    "#    num_train = train.drop(object_cols, axis=1)\n",
    "#    OH_train = pd.concat([num_train, OH_cols_train], axis=1)\n",
    "#    #OH_train.columns = OH_train.columns.astype(str)\n",
    "#    return OH_train\n",
    "\n",
    "#X_train = my_OHenc_function(OH_encoder, X_train, object_cols)\n",
    "#print(X_train)\n",
    "\n",
    "#X_test = my_OHenc_function(OH_encoder, X_test, object_cols)\n",
    "#print(X_test)"
   ]
  },
  {
   "cell_type": "code",
   "execution_count": 8,
   "id": "116ec8be",
   "metadata": {
    "execution": {
     "iopub.execute_input": "2025-01-14T18:02:40.648488Z",
     "iopub.status.busy": "2025-01-14T18:02:40.648181Z",
     "iopub.status.idle": "2025-01-14T18:02:40.866485Z",
     "shell.execute_reply": "2025-01-14T18:02:40.865438Z"
    },
    "papermill": {
     "duration": 0.223923,
     "end_time": "2025-01-14T18:02:40.868593",
     "exception": false,
     "start_time": "2025-01-14T18:02:40.644670",
     "status": "completed"
    },
    "tags": []
   },
   "outputs": [],
   "source": [
    "from sklearn.impute import SimpleImputer\n",
    "\n",
    "my_imputer = SimpleImputer()\n",
    "imputed_X_train = pd.DataFrame(my_imputer.fit_transform(X_train))\n",
    "imputed_X_valid = pd.DataFrame(my_imputer.transform(X_test))\n",
    "\n",
    "X_train = imputed_X_train\n",
    "X_test = imputed_X_valid"
   ]
  },
  {
   "cell_type": "code",
   "execution_count": 9,
   "id": "80f8e27f",
   "metadata": {
    "execution": {
     "iopub.execute_input": "2025-01-14T18:02:40.876161Z",
     "iopub.status.busy": "2025-01-14T18:02:40.875802Z",
     "iopub.status.idle": "2025-01-14T18:02:41.679221Z",
     "shell.execute_reply": "2025-01-14T18:02:41.678068Z"
    },
    "papermill": {
     "duration": 0.809202,
     "end_time": "2025-01-14T18:02:41.681111",
     "exception": false,
     "start_time": "2025-01-14T18:02:40.871909",
     "status": "completed"
    },
    "tags": []
   },
   "outputs": [
    {
     "name": "stdout",
     "output_type": "stream",
     "text": [
      "1386 / 1739 = 0.79700977573318 %\n"
     ]
    }
   ],
   "source": [
    "from sklearn.ensemble import RandomForestClassifier\n",
    "from sklearn.metrics import mean_absolute_error\n",
    "\n",
    "forest_model = RandomForestClassifier(max_depth=10, n_estimators=100, random_state=0)\n",
    "forest_model.fit(X_train, Y_train)\n",
    "predictions = forest_model.predict(X_test)\n",
    "#print(predictions.shape)\n",
    "#print(Y_test.shape)\n",
    "#print(mean_absolute_error(Y_test, predictions))\n",
    "predLen = len(predictions)\n",
    "isGoodCount = 0\n",
    "for x in range(predLen):\n",
    "    isGood = Y_test.iloc[x] == predictions[x]\n",
    "    if (isGood):\n",
    "        isGoodCount+=1\n",
    "    #print(x, Y_test.iloc[x], predictions[x], isGood)\n",
    "\n",
    "print(isGoodCount,'/',predLen,'=', isGoodCount/predLen,'%')"
   ]
  }
 ],
 "metadata": {
  "kaggle": {
   "accelerator": "none",
   "dataSources": [
    {
     "databundleVersionId": 3220602,
     "sourceId": 34377,
     "sourceType": "competition"
    }
   ],
   "dockerImageVersionId": 30822,
   "isGpuEnabled": false,
   "isInternetEnabled": true,
   "language": "python",
   "sourceType": "notebook"
  },
  "kernelspec": {
   "display_name": "Python 3",
   "language": "python",
   "name": "python3"
  },
  "language_info": {
   "codemirror_mode": {
    "name": "ipython",
    "version": 3
   },
   "file_extension": ".py",
   "mimetype": "text/x-python",
   "name": "python",
   "nbconvert_exporter": "python",
   "pygments_lexer": "ipython3",
   "version": "3.10.12"
  },
  "papermill": {
   "default_parameters": {},
   "duration": 6.004048,
   "end_time": "2025-01-14T18:02:42.305544",
   "environment_variables": {},
   "exception": null,
   "input_path": "__notebook__.ipynb",
   "output_path": "__notebook__.ipynb",
   "parameters": {},
   "start_time": "2025-01-14T18:02:36.301496",
   "version": "2.6.0"
  }
 },
 "nbformat": 4,
 "nbformat_minor": 5
}
